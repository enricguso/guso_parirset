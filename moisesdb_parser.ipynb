{
 "cells": [
  {
   "cell_type": "code",
   "execution_count": null,
   "id": "eee70146-a64b-4cc9-9f36-d7b047d07f4a",
   "metadata": {},
   "outputs": [],
   "source": [
    "import os\n",
    "from moisesdb.dataset import MoisesDB\n",
    "import moisesdb.defaults\n",
    "import tqdm\n",
    "from moisesdb.utils import save_audio\n",
    "from IPython.display import Audio "
   ]
  },
  {
   "cell_type": "code",
   "execution_count": null,
   "id": "4354793b-f236-4a0f-be25-925981ebb6fc",
   "metadata": {},
   "outputs": [],
   "source": [
    "db = MoisesDB(\n",
    "    data_path='/home/ubuntu/Data/moisesdb',\n",
    "    sample_rate=44100\n",
    ")"
   ]
  },
  {
   "cell_type": "code",
   "execution_count": null,
   "id": "18b23411-2649-428a-9e37-2506dff23146",
   "metadata": {},
   "outputs": [],
   "source": [
    "# where to store everythin\n",
    "out_path = '/media/share/musdbmoises2/train'"
   ]
  },
  {
   "cell_type": "code",
   "execution_count": null,
   "id": "7758b30e-62b7-4662-a2ae-213b57b4a220",
   "metadata": {},
   "outputs": [],
   "source": [
    "for i, song in enumerate(tqdm.tqdm(db)):\n",
    "    try:\n",
    "        folder = os.path.join(out_path, song.artist + ' - ' + song.name)\n",
    "\n",
    "        if not os.path.exists(folder):\n",
    "\n",
    "            stems = song.mix_stems(moisesdb.defaults.mix_4_stems)\n",
    "            mixture = song.audio\n",
    "            minlenght = min(stems['vocals'].shape[1], stems['drums'].shape[1], stems['bass'].shape[1], stems['other'].shape[1], mixture.shape[1])\n",
    "            os.mkdir(folder)\n",
    "            save_audio(os.path.join(folder, 'mixture.wav'), mixture[:, :minlenght])\n",
    "            save_audio(os.path.join(folder, 'vocals.wav'), stems['vocals'][:, :minlenght])\n",
    "            save_audio(os.path.join(folder, 'drums.wav'), stems['drums'][:, :minlenght])\n",
    "            save_audio(os.path.join(folder, 'bass.wav'), stems['bass'][:, :minlenght])\n",
    "            save_audio(os.path.join(folder, 'other.wav'), stems['other'][:, :minlenght])\n",
    "        else:\n",
    "            print(i)\n",
    "    except:\n",
    "        print('some error')"
   ]
  },
  {
   "cell_type": "code",
   "execution_count": null,
   "id": "25dbb015-a569-43aa-8441-a31649760724",
   "metadata": {},
   "outputs": [],
   "source": [
    "#non_4src_ids = [36, 119, 176, 226, 233] # songs that are lacking some of the MUSDB source categories"
   ]
  }
 ],
 "metadata": {
  "kernelspec": {
   "display_name": "scn",
   "language": "python",
   "name": "scn"
  },
  "language_info": {
   "codemirror_mode": {
    "name": "ipython",
    "version": 3
   },
   "file_extension": ".py",
   "mimetype": "text/x-python",
   "name": "python",
   "nbconvert_exporter": "python",
   "pygments_lexer": "ipython3",
   "version": "3.8.10"
  }
 },
 "nbformat": 4,
 "nbformat_minor": 5
}
